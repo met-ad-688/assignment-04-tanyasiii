{
  "cells": [
    {
      "cell_type": "markdown",
      "metadata": {},
      "source": [
        "---\n",
        "title: Assignment 04\n",
        "subtitle: \"Regression Analysis in Pyspark\"\n",
        "author:\n",
        "  - name: Tracy Anyasi\n",
        "    affiliations:\n",
        "      - id: bu\n",
        "        name: Boston University\n",
        "        city: Boston\n",
        "        state: MA\n",
        "number-sections: true\n",
        "date: '2025-10-08'\n",
        "date-modified: today\n",
        "date-format: long\n",
        "format:\n",
        "  html:\n",
        "    theme: cerulean\n",
        "    toc: true\n",
        "    toc-depth: 2\n",
        "\n",
        "execute:\n",
        "  echo: false\n",
        "  eval: false\n",
        "  freeze: auto\n",
        "---"
      ]
    },
    {
      "cell_type": "code",
      "execution_count": 3,
      "metadata": {},
      "outputs": [
        {
          "name": "stderr",
          "output_type": "stream",
          "text": [
            "WARNING: Using incubator modules: jdk.incubator.vector\n",
            "Using Spark's default log4j profile: org/apache/spark/log4j2-defaults.properties\n",
            "Setting default log level to \"WARN\".\n",
            "To adjust logging level use sc.setLogLevel(newLevel). For SparkR, use setLogLevel(newLevel).\n",
            "25/10/05 23:28:39 WARN NativeCodeLoader: Unable to load native-hadoop library for your platform... using builtin-java classes where applicable\n",
            "                                                                                \r"
          ]
        },
        {
          "name": "stdout",
          "output_type": "stream",
          "text": [
            "---This is Diagnostic check, No need to print it in the final doc---\n"
          ]
        },
        {
          "name": "stderr",
          "output_type": "stream",
          "text": [
            "25/10/05 23:28:56 WARN SparkStringUtils: Truncated the string representation of a plan since it was too large. This behavior can be adjusted by setting 'spark.sql.debug.maxToStringFields'.\n",
            "                                                                                \r"
          ]
        },
        {
          "name": "stdout",
          "output_type": "stream",
          "text": [
            "+--------------------+-----------------+----------------------+----------+--------+---------+--------+--------------------+--------------------+--------------------+-----------+-------------------+--------------------+--------------------+---------------+----------------+--------+--------------------+-----------+-------------------+----------------+---------------------+-------------+-------------------+-------------+------------------+---------------+--------------------+--------------------+--------------------+-------------+------+-----------+----------------+-------------------+---------+-----------+--------------------+--------------------+-------------+------+--------------+-----+--------------------+-----+----------+---------------+--------------------+---------------+--------------------+------------+--------------------+------------+--------------------+------+--------------------+------+--------------------+------+--------------------+------+--------------------+------+--------------------+------------------+-------------------+--------------------+--------------------+--------------------+--------------------+-----------------------+--------------------+--------------------+--------------------+--------------------+--------------------+--------------------+----------+--------------------+----------+--------------------+--------------------+--------------------+--------------------+--------------------+--------------------+--------------------+----------+--------------------+----------+--------------------+----------+---------------+----------+---------------+---------------+--------------------+--------------+--------------------+--------------------------+-------------------------------+--------------------+-------------------------+-----------------------------+----------------------------------+-----------------+----------------------+-----------------------+----------------------------+------------------+-----------------------+-------+--------------------+-------+--------------------+-------+---------------+-------+---------------+-----------------+----------------------+------------+--------------------+------------+--------------------+------------+--------------------+------------+--------------------+------------+--------------------+\n",
            "|                  ID|LAST_UPDATED_DATE|LAST_UPDATED_TIMESTAMP|DUPLICATES|  POSTED|  EXPIRED|DURATION|        SOURCE_TYPES|             SOURCES|                 URL|ACTIVE_URLS|ACTIVE_SOURCES_INFO|           TITLE_RAW|                BODY|MODELED_EXPIRED|MODELED_DURATION| COMPANY|        COMPANY_NAME|COMPANY_RAW|COMPANY_IS_STAFFING|EDUCATION_LEVELS|EDUCATION_LEVELS_NAME|MIN_EDULEVELS| MIN_EDULEVELS_NAME|MAX_EDULEVELS|MAX_EDULEVELS_NAME|EMPLOYMENT_TYPE|EMPLOYMENT_TYPE_NAME|MIN_YEARS_EXPERIENCE|MAX_YEARS_EXPERIENCE|IS_INTERNSHIP|SALARY|REMOTE_TYPE|REMOTE_TYPE_NAME|ORIGINAL_PAY_PERIOD|SALARY_TO|SALARY_FROM|            LOCATION|                CITY|    CITY_NAME|COUNTY|   COUNTY_NAME|  MSA|            MSA_NAME|STATE|STATE_NAME|COUNTY_OUTGOING|COUNTY_NAME_OUTGOING|COUNTY_INCOMING|COUNTY_NAME_INCOMING|MSA_OUTGOING|   MSA_NAME_OUTGOING|MSA_INCOMING|   MSA_NAME_INCOMING|NAICS2|         NAICS2_NAME|NAICS3|         NAICS3_NAME|NAICS4|         NAICS4_NAME|NAICS5|         NAICS5_NAME|NAICS6|         NAICS6_NAME|             TITLE|         TITLE_NAME|         TITLE_CLEAN|              SKILLS|         SKILLS_NAME|  SPECIALIZED_SKILLS|SPECIALIZED_SKILLS_NAME|      CERTIFICATIONS| CERTIFICATIONS_NAME|       COMMON_SKILLS|  COMMON_SKILLS_NAME|     SOFTWARE_SKILLS|SOFTWARE_SKILLS_NAME|      ONET|           ONET_NAME| ONET_2019|      ONET_2019_NAME|                CIP6|           CIP6_NAME|                CIP4|           CIP4_NAME|                CIP2|           CIP2_NAME|SOC_2021_2|     SOC_2021_2_NAME|SOC_2021_3|     SOC_2021_3_NAME|SOC_2021_4|SOC_2021_4_NAME|SOC_2021_5|SOC_2021_5_NAME|LOT_CAREER_AREA|LOT_CAREER_AREA_NAME|LOT_OCCUPATION| LOT_OCCUPATION_NAME|LOT_SPECIALIZED_OCCUPATION|LOT_SPECIALIZED_OCCUPATION_NAME|LOT_OCCUPATION_GROUP|LOT_OCCUPATION_GROUP_NAME|LOT_V6_SPECIALIZED_OCCUPATION|LOT_V6_SPECIALIZED_OCCUPATION_NAME|LOT_V6_OCCUPATION|LOT_V6_OCCUPATION_NAME|LOT_V6_OCCUPATION_GROUP|LOT_V6_OCCUPATION_GROUP_NAME|LOT_V6_CAREER_AREA|LOT_V6_CAREER_AREA_NAME|  SOC_2|          SOC_2_NAME|  SOC_3|          SOC_3_NAME|  SOC_4|     SOC_4_NAME|  SOC_5|     SOC_5_NAME|LIGHTCAST_SECTORS|LIGHTCAST_SECTORS_NAME|NAICS_2022_2|   NAICS_2022_2_NAME|NAICS_2022_3|   NAICS_2022_3_NAME|NAICS_2022_4|   NAICS_2022_4_NAME|NAICS_2022_5|   NAICS_2022_5_NAME|NAICS_2022_6|   NAICS_2022_6_NAME|\n",
            "+--------------------+-----------------+----------------------+----------+--------+---------+--------+--------------------+--------------------+--------------------+-----------+-------------------+--------------------+--------------------+---------------+----------------+--------+--------------------+-----------+-------------------+----------------+---------------------+-------------+-------------------+-------------+------------------+---------------+--------------------+--------------------+--------------------+-------------+------+-----------+----------------+-------------------+---------+-----------+--------------------+--------------------+-------------+------+--------------+-----+--------------------+-----+----------+---------------+--------------------+---------------+--------------------+------------+--------------------+------------+--------------------+------+--------------------+------+--------------------+------+--------------------+------+--------------------+------+--------------------+------------------+-------------------+--------------------+--------------------+--------------------+--------------------+-----------------------+--------------------+--------------------+--------------------+--------------------+--------------------+--------------------+----------+--------------------+----------+--------------------+--------------------+--------------------+--------------------+--------------------+--------------------+--------------------+----------+--------------------+----------+--------------------+----------+---------------+----------+---------------+---------------+--------------------+--------------+--------------------+--------------------------+-------------------------------+--------------------+-------------------------+-----------------------------+----------------------------------+-----------------+----------------------+-----------------------+----------------------------+------------------+-----------------------+-------+--------------------+-------+--------------------+-------+---------------+-------+---------------+-----------------+----------------------+------------+--------------------+------------+--------------------+------------+--------------------+------------+--------------------+------------+--------------------+\n",
            "|1f57d95acf4dc67ed...|         9/6/2024|  2024-09-06 20:32:...|         0|6/2/2024| 6/8/2024|       6|   [\\n  \"Company\"\\n]|[\\n  \"brassring.c...|[\\n  \"https://sjo...|         []|               NULL|Enterprise Analys...|31-May-2024\\n\\nEn...|       6/8/2024|               6|  894731|          Murphy USA| Murphy USA|              false|       [\\n  2\\n]| [\\n  \"Bachelor's ...|            2|  Bachelor's degree|         NULL|              NULL|              1|Full-time (> 32 h...|                   2|                   2|        false|  NULL|          0|          [None]|               NULL|     NULL|       NULL|{\\n  \"lat\": 33.20...|RWwgRG9yYWRvLCBBUg==|El Dorado, AR|  5139|     Union, AR|20980|       El Dorado, AR|    5|  Arkansas|           5139|           Union, AR|           5139|           Union, AR|       20980|       El Dorado, AR|       20980|       El Dorado, AR|    44|        Retail Trade|   441|Motor Vehicle and...|  4413|Automotive Parts,...| 44133|Automotive Parts ...|441330|Automotive Parts ...|ET29C073C03D1F86B4|Enterprise Analysts|enterprise analys...|[\\n  \"KS126DB6T06...|[\\n  \"Merchandisi...|[\\n  \"KS126DB6T06...|   [\\n  \"Merchandisi...|                  []|                  []|[\\n  \"KS126706DPF...|[\\n  \"Mathematics...|[\\n  \"KS440W865GC...|[\\n  \"SQL (Progra...|15-2051.01|Business Intellig...|15-2051.01|Business Intellig...|[\\n  \"45.0601\",\\n...|[\\n  \"Economics, ...|[\\n  \"45.06\",\\n  ...|[\\n  \"Economics\",...|[\\n  \"45\",\\n  \"27...|[\\n  \"Social Scie...|   15-0000|Computer and Math...|   15-2000|Mathematical Scie...|   15-2050|Data Scientists|   15-2051|Data Scientists|             23|Information Techn...|        231010|Business Intellig...|                  23101011|           General ERP Analy...|                2310|     Business Intellig...|                     23101011|              General ERP Analy...|           231010|  Business Intellig...|                   2310|        Business Intellig...|                23|   Information Techn...|15-0000|Computer and Math...|15-2000|Mathematical Scie...|15-2050|Data Scientists|15-2051|Data Scientists|        [\\n  7\\n]|  [\\n  \"Artificial ...|          44|        Retail Trade|         441|Motor Vehicle and...|        4413|Automotive Parts,...|       44133|Automotive Parts ...|      441330|Automotive Parts ...|\n",
            "|0cb072af26757b6c4...|         8/2/2024|  2024-08-02 17:08:...|         0|6/2/2024| 8/1/2024|    NULL| [\\n  \"Job Board\"\\n]| [\\n  \"maine.gov\"\\n]|[\\n  \"https://job...|         []|               NULL|Oracle Consultant...|Oracle Consultant...|       8/1/2024|            NULL|  133098|Smx Corporation L...|        SMX|               true|      [\\n  99\\n]| [\\n  \"No Educatio...|           99|No Education Listed|         NULL|              NULL|              1|Full-time (> 32 h...|                   3|                   3|        false|  NULL|          1|          Remote|               NULL|     NULL|       NULL|{\\n  \"lat\": 44.31...|    QXVndXN0YSwgTUU=|  Augusta, ME| 23011|  Kennebec, ME|12300|Augusta-Watervill...|   23|     Maine|          23011|        Kennebec, ME|          23011|        Kennebec, ME|       12300|Augusta-Watervill...|       12300|Augusta-Watervill...|    56|Administrative an...|   561|Administrative an...|  5613| Employment Services| 56132|Temporary Help Se...|561320|Temporary Help Se...|ET21DDA63780A7DC09| Oracle Consultants|oracle consultant...|[\\n  \"KS122626T55...|[\\n  \"Procurement...|[\\n  \"KS122626T55...|   [\\n  \"Procurement...|                  []|                  []|                  []|                  []|[\\n  \"BGSBF3F508F...|[\\n  \"Oracle Busi...|15-2051.01|Business Intellig...|15-2051.01|Business Intellig...|                  []|                  []|                  []|                  []|                  []|                  []|   15-0000|Computer and Math...|   15-2000|Mathematical Scie...|   15-2050|Data Scientists|   15-2051|Data Scientists|             23|Information Techn...|        231010|Business Intellig...|                  23101012|           Oracle Consultant...|                2310|     Business Intellig...|                     23101012|              Oracle Consultant...|           231010|  Business Intellig...|                   2310|        Business Intellig...|                23|   Information Techn...|15-0000|Computer and Math...|15-2000|Mathematical Scie...|15-2050|Data Scientists|15-2051|Data Scientists|             NULL|                  NULL|          56|Administrative an...|         561|Administrative an...|        5613| Employment Services|       56132|Temporary Help Se...|      561320|Temporary Help Se...|\n",
            "|85318b12b3331fa49...|         9/6/2024|  2024-09-06 20:32:...|         1|6/2/2024| 7/7/2024|      35| [\\n  \"Job Board\"\\n]|[\\n  \"dejobs.org\"\\n]|[\\n  \"https://dej...|         []|               NULL|        Data Analyst|Taking care of pe...|      6/10/2024|               8|39063746|            Sedgwick|   Sedgwick|              false|       [\\n  2\\n]| [\\n  \"Bachelor's ...|            2|  Bachelor's degree|         NULL|              NULL|              1|Full-time (> 32 h...|                   5|                NULL|        false|  NULL|          0|          [None]|               NULL|     NULL|       NULL|{\\n  \"lat\": 32.77...|    RGFsbGFzLCBUWA==|   Dallas, TX| 48113|    Dallas, TX|19100|Dallas-Fort Worth...|   48|     Texas|          48113|          Dallas, TX|          48113|          Dallas, TX|       19100|Dallas-Fort Worth...|       19100|Dallas-Fort Worth...|    52|Finance and Insur...|   524|Insurance Carrier...|  5242|Agencies, Brokera...| 52429|Other Insurance R...|524291|    Claims Adjusting|ET3037E0C947A02404|      Data Analysts|        data analyst|[\\n  \"KS1218W78FG...|[\\n  \"Management\"...|[\\n  \"ESF3939CE1F...|   [\\n  \"Exception R...|[\\n  \"KS683TN76T7...|[\\n  \"Security Cl...|[\\n  \"KS1218W78FG...|[\\n  \"Management\"...|[\\n  \"KS126HY6YLT...|[\\n  \"Microsoft O...|15-2051.01|Business Intellig...|15-2051.01|Business Intellig...|                  []|                  []|                  []|                  []|                  []|                  []|   15-0000|Computer and Math...|   15-2000|Mathematical Scie...|   15-2050|Data Scientists|   15-2051|Data Scientists|             23|Information Techn...|        231113|Data / Data Minin...|                  23111310|                   Data Analyst|                2311|     Data Analysis and...|                     23111310|                      Data Analyst|           231113|  Data / Data Minin...|                   2311|        Data Analysis and...|                23|   Information Techn...|15-0000|Computer and Math...|15-2000|Mathematical Scie...|15-2050|Data Scientists|15-2051|Data Scientists|             NULL|                  NULL|          52|Finance and Insur...|         524|Insurance Carrier...|        5242|Agencies, Brokera...|       52429|Other Insurance R...|      524291|    Claims Adjusting|\n",
            "|1b5c3941e54a1889e...|         9/6/2024|  2024-09-06 20:32:...|         1|6/2/2024|7/20/2024|      48| [\\n  \"Job Board\"\\n]|[\\n  \"disabledper...|[\\n  \"https://www...|         []|               NULL|Sr. Lead Data Mgm...|About this role:\\...|      6/12/2024|              10|37615159|         Wells Fargo|Wells Fargo|              false|      [\\n  99\\n]| [\\n  \"No Educatio...|           99|No Education Listed|         NULL|              NULL|              1|Full-time (> 32 h...|                   3|                NULL|        false|  NULL|          0|          [None]|               NULL|     NULL|       NULL|{\\n  \"lat\": 33.44...|    UGhvZW5peCwgQVo=|  Phoenix, AZ|  4013|  Maricopa, AZ|38060|Phoenix-Mesa-Chan...|    4|   Arizona|           4013|        Maricopa, AZ|           4013|        Maricopa, AZ|       38060|Phoenix-Mesa-Chan...|       38060|Phoenix-Mesa-Chan...|    52|Finance and Insur...|   522|Credit Intermedia...|  5221|Depository Credit...| 52211|  Commercial Banking|522110|  Commercial Banking|ET2114E0404BA30075|Management Analysts|sr lead data mgmt...|[\\n  \"KS123QX62QY...|[\\n  \"Exit Strate...|[\\n  \"KS123QX62QY...|   [\\n  \"Exit Strate...|                  []|                  []|[\\n  \"KS7G6NP6R6L...|[\\n  \"Reliability...|[\\n  \"KS4409D76NW...|[\\n  \"SAS (Softwa...|15-2051.01|Business Intellig...|15-2051.01|Business Intellig...|                  []|                  []|                  []|                  []|                  []|                  []|   15-0000|Computer and Math...|   15-2000|Mathematical Scie...|   15-2050|Data Scientists|   15-2051|Data Scientists|             23|Information Techn...|        231113|Data / Data Minin...|                  23111310|                   Data Analyst|                2311|     Data Analysis and...|                     23111310|                      Data Analyst|           231113|  Data / Data Minin...|                   2311|        Data Analysis and...|                23|   Information Techn...|15-0000|Computer and Math...|15-2000|Mathematical Scie...|15-2050|Data Scientists|15-2051|Data Scientists|        [\\n  6\\n]|  [\\n  \"Data Privac...|          52|Finance and Insur...|         522|Credit Intermedia...|        5221|Depository Credit...|       52211|  Commercial Banking|      522110|  Commercial Banking|\n",
            "|cb5ca25f02bdf25c1...|        6/19/2024|   2024-06-19 07:00:00|         0|6/2/2024|6/17/2024|      15|[\\n  \"FreeJobBoar...|[\\n  \"craigslist....|[\\n  \"https://mod...|         []|               NULL|Comisiones de $10...|Comisiones de $10...|      6/17/2024|              15|       0|        Unclassified|      LH/GM|              false|      [\\n  99\\n]| [\\n  \"No Educatio...|           99|No Education Listed|         NULL|              NULL|              3|Part-time / full-...|                NULL|                NULL|        false| 92500|          0|          [None]|               year|   150000|      35000|{\\n  \"lat\": 37.63...|    TW9kZXN0bywgQ0E=|  Modesto, CA|  6099|Stanislaus, CA|33700|         Modesto, CA|    6|California|           6099|      Stanislaus, CA|           6099|      Stanislaus, CA|       33700|         Modesto, CA|       33700|         Modesto, CA|    99|Unclassified Indu...|   999|Unclassified Indu...|  9999|Unclassified Indu...| 99999|Unclassified Indu...|999999|Unclassified Indu...|ET0000000000000000|       Unclassified|comisiones de por...|                  []|                  []|                  []|                     []|                  []|                  []|                  []|                  []|                  []|                  []|15-2051.01|Business Intellig...|15-2051.01|Business Intellig...|                  []|                  []|                  []|                  []|                  []|                  []|   15-0000|Computer and Math...|   15-2000|Mathematical Scie...|   15-2050|Data Scientists|   15-2051|Data Scientists|             23|Information Techn...|        231010|Business Intellig...|                  23101012|           Oracle Consultant...|                2310|     Business Intellig...|                     23101012|              Oracle Consultant...|           231010|  Business Intellig...|                   2310|        Business Intellig...|                23|   Information Techn...|15-0000|Computer and Math...|15-2000|Mathematical Scie...|15-2050|Data Scientists|15-2051|Data Scientists|             NULL|                  NULL|          99|Unclassified Indu...|         999|Unclassified Indu...|        9999|Unclassified Indu...|       99999|Unclassified Indu...|      999999|Unclassified Indu...|\n",
            "+--------------------+-----------------+----------------------+----------+--------+---------+--------+--------------------+--------------------+--------------------+-----------+-------------------+--------------------+--------------------+---------------+----------------+--------+--------------------+-----------+-------------------+----------------+---------------------+-------------+-------------------+-------------+------------------+---------------+--------------------+--------------------+--------------------+-------------+------+-----------+----------------+-------------------+---------+-----------+--------------------+--------------------+-------------+------+--------------+-----+--------------------+-----+----------+---------------+--------------------+---------------+--------------------+------------+--------------------+------------+--------------------+------+--------------------+------+--------------------+------+--------------------+------+--------------------+------+--------------------+------------------+-------------------+--------------------+--------------------+--------------------+--------------------+-----------------------+--------------------+--------------------+--------------------+--------------------+--------------------+--------------------+----------+--------------------+----------+--------------------+--------------------+--------------------+--------------------+--------------------+--------------------+--------------------+----------+--------------------+----------+--------------------+----------+---------------+----------+---------------+---------------+--------------------+--------------+--------------------+--------------------------+-------------------------------+--------------------+-------------------------+-----------------------------+----------------------------------+-----------------+----------------------+-----------------------+----------------------------+------------------+-----------------------+-------+--------------------+-------+--------------------+-------+---------------+-------+---------------+-----------------+----------------------+------------+--------------------+------------+--------------------+------------+--------------------+------------+--------------------+------------+--------------------+\n",
            "only showing top 5 rows\n"
          ]
        }
      ],
      "source": [
        "from pyspark.sql import SparkSession\n",
        "import pandas as pd\n",
        "import plotly.express as px\n",
        "import plotly.io as pio\n",
        "import numpy as np\n",
        "\n",
        "np.random.seed(42)\n",
        "\n",
        "pio.renderers.default = \"notebook+notebook_connected+vscode\"\n",
        "\n",
        "# Initialize Spark Session\n",
        "spark = SparkSession.builder.appName(\"LightcastData\").getOrCreate()\n",
        "\n",
        "# Load Data\n",
        "df = spark.read.option(\"header\", \"true\").option(\"inferSchema\", \"true\").option(\"multiLine\",\"true\").option(\"escape\", \"\\\"\").csv(\"./data/lightcast_job_postings.csv\")\n",
        "\n",
        "# Show Schema and Sample Data\n",
        "print(\"---This is Diagnostic check, No need to print it in the final doc---\")\n",
        "\n",
        "# df.printSchema() # comment this line when rendering the submission\n",
        "df.show(5)"
      ]
    },
    {
      "cell_type": "markdown",
      "metadata": {},
      "source": [
        "## Feature Engineering"
      ]
    },
    {
      "cell_type": "markdown",
      "metadata": {},
      "source": [
        "Remove incomplete data, keep relevant variables, and iron out complicated string values\n",
        "Encoder turns categorical columns (remote, hybrid, onsite) to numeric ones (1 or 0) based on input"
      ]
    },
    {
      "cell_type": "code",
      "execution_count": 4,
      "metadata": {},
      "outputs": [],
      "source": [
        "#| eval: true\n",
        "#| echo: falase\n",
        "#| fig-align: center\n",
        "\n",
        "from pyspark.sql.functions import col, pow, when\n",
        "from pyspark.ml.feature import StringIndexer, VectorAssembler, OneHotEncoder\n",
        "from pyspark.ml import Pipeline\n",
        "\n",
        "#remove rows with NAs\n",
        "df_cleaned = df.dropna(subset=[\n",
        "    \"SALARY\", \"MIN_YEARS_EXPERIENCE\", \"STATE_NAME\", \"EMPLOYMENT_TYPE_NAME\",\n",
        "    \"REMOTE_TYPE_NAME\", \"MIN_EDULEVELS_NAME\", \"DURATION\", \n",
        "    \"IS_INTERNSHIP\", \"COMPANY_IS_STAFFING\"\n",
        "])\n",
        "\n",
        "eda_cols = [\n",
        "    \"SALARY\", \"MIN_YEARS_EXPERIENCE\", \"DURATION\", \"COMPANY_IS_STAFFING\",\n",
        "    \"IS_INTERNSHIP\", \"STATE_NAME\", \"REMOTE_TYPE_NAME\",\n",
        "    \"EMPLOYMENT_TYPE_NAME\", \"MIN_EDULEVELS_NAME\"\n",
        "]\n",
        "df_cleaned = df_cleaned.select(eda_cols)\n",
        "\n",
        "#clean up REMOTE_TYPE_NAME and reduce the different inputs\n",
        "df_cleaned = df_cleaned.withColumn(\n",
        "    \"REMOTE_TYPE_NAME\",\n",
        "    when(col(\"REMOTE_TYPE_NAME\") == \"Remote\", \"Remote\")\n",
        "    .when(col(\"REMOTE_TYPE_NAME\") == \"[None]\", \"Undefined\")\n",
        "    .when(col(\"REMOTE_TYPE_NAME\") == \"Not Remote\", \"On Premise\")\n",
        "    .when(col(\"REMOTE_TYPE_NAME\") == \"Hybrid Remote\", \"Hybrid\")\n",
        "    .when(col(\"REMOTE_TYPE_NAME\").isNull(), \"On Premise\")\n",
        "    .otherwise(col(\"REMOTE_TYPE_NAME\"))\n",
        ")\n",
        "\n",
        "#clean EMPLOYMENT_TYPE_NAME\n",
        "df_cleaned = df_cleaned.withColumn(\n",
        "    \"EMPLOYMENT_TYPE_NAME\",\n",
        "    when(col(\"EMPLOYMENT_TYPE_NAME\") == \"Part-time / full-time\", \"Flexible\")\n",
        "    .when(col(\"EMPLOYMENT_TYPE_NAME\") == \"Part-time (â‰¤ 32 hours)\", \"Parttime\")\n",
        "    .when(col(\"EMPLOYMENT_TYPE_NAME\") == \"Full-time (> 32 hours)\", \"Fulltime\")\n",
        "    .when(col(\"EMPLOYMENT_TYPE_NAME\").isNull(), \"Fulltime\")\n",
        "    .otherwise(col(\"EMPLOYMENT_TYPE_NAME\"))\n",
        ")\n",
        "\n",
        "#df_cleaned = df_cleaned.filter(col(\"REMOTE_TYPE_NAME\") != \"Undefined\") -- initially wnated to remove the undefined but it dropped the\n",
        "#percentage of the regression model\n",
        "\n",
        "# Categorical and numeric columns\n",
        "categorical_cols = [\"EMPLOYMENT_TYPE_NAME\", \"REMOTE_TYPE_NAME\"]\n",
        "continuous_cols = [\"MIN_YEARS_EXPERIENCE\", \"DURATION\", \"IS_INTERNSHIP\", \"COMPANY_IS_STAFFING\"]\n",
        "\n",
        "# Index and One-Hot Encode\n",
        "indexers = [StringIndexer(inputCol=col, outputCol=f\"{col}_Idx\", handleInvalid=\"skip\") for col in categorical_cols]\n",
        "encoders = [OneHotEncoder(inputCol=f\"{col}_Idx\", outputCol=f\"{col}_vec\") for col in categorical_cols]\n"
      ]
    },
    {
      "cell_type": "code",
      "execution_count": 5,
      "metadata": {},
      "outputs": [
        {
          "name": "stderr",
          "output_type": "stream",
          "text": [
            "                                                                                \r"
          ]
        },
        {
          "name": "stdout",
          "output_type": "stream",
          "text": [
            "+------+--------------------------------------+-------------------------------------------+\n",
            "|SALARY|features                              |features_poly                              |\n",
            "+------+--------------------------------------+-------------------------------------------+\n",
            "|192800|(9,[0,1,4,6],[6.0,55.0,1.0,1.0])      |(10,[0,1,4,6,9],[6.0,55.0,1.0,1.0,36.0])   |\n",
            "|125900|(9,[0,1,4,6],[12.0,18.0,1.0,1.0])     |(10,[0,1,4,6,9],[12.0,18.0,1.0,1.0,144.0]) |\n",
            "|118560|[5.0,20.0,0.0,1.0,1.0,0.0,0.0,1.0,0.0]|[5.0,20.0,0.0,1.0,1.0,0.0,0.0,1.0,0.0,25.0]|\n",
            "|192800|(9,[0,1,4,6],[6.0,55.0,1.0,1.0])      |(10,[0,1,4,6,9],[6.0,55.0,1.0,1.0,36.0])   |\n",
            "|116500|(9,[0,1,4,6],[12.0,16.0,1.0,1.0])     |(10,[0,1,4,6,9],[12.0,16.0,1.0,1.0,144.0]) |\n",
            "+------+--------------------------------------+-------------------------------------------+\n",
            "only showing top 5 rows\n"
          ]
        }
      ],
      "source": [
        "# combines all categorical and numeric columns into one vector coulmn\n",
        "assembler = VectorAssembler(\n",
        "    inputCols=continuous_cols + [f\"{col}_vec\" for col in categorical_cols],\n",
        "    outputCol=\"features\"\n",
        ")\n",
        "\n",
        "#create pipeline for sequential transformation\n",
        "pipeline = Pipeline(stages=indexers + encoders + [assembler])\n",
        "data = pipeline.fit(df_cleaned).transform(df_cleaned)\n",
        "\n",
        "# polynomial regression for MIN_YEARS_EXPERIENCE\n",
        "data = data.withColumn(\"MIN_YEARS_EXPERIENCE_SQ\", pow(col(\"MIN_YEARS_EXPERIENCE\"), 2))\n",
        "\n",
        "#assemble og features plus poly feature into new feature vector\n",
        "assembler_poly = VectorAssembler(\n",
        "    inputCols=[\"features\", \"MIN_YEARS_EXPERIENCE_SQ\"],\n",
        "    outputCol=\"features_poly\"\n",
        ")\n",
        "data = assembler_poly.transform(data)\n",
        "\n",
        "#split data into training and testing sets for model evaluation\n",
        "reg_train, reg_test = data.randomSplit([0.8, 0.2], seed=51)\n",
        "#This split reserves 80% of the data for training and 20% for testing which provides enough data for the model to learn while keeping a reliable holdout set for evaluation.\n",
        "\n",
        "#displays final structure with salary as target\n",
        "data.select(\"SALARY\", \"features\", \"features_poly\").show(5, truncate=False)"
      ]
    },
    {
      "cell_type": "code",
      "execution_count": 6,
      "metadata": {},
      "outputs": [
        {
          "name": "stderr",
          "output_type": "stream",
          "text": [
            "                                                                                \r"
          ]
        },
        {
          "name": "stdout",
          "output_type": "stream",
          "text": [
            "\n",
            "Mapping for EMPLOYMENT_TYPE_NAME:\n",
            "  Index 0 -> Fulltime\n",
            "  Index 1 -> Parttime\n",
            "  Index 2 -> Flexible\n"
          ]
        },
        {
          "name": "stderr",
          "output_type": "stream",
          "text": [
            "[Stage 22:>                                                         (0 + 1) / 1]\r"
          ]
        },
        {
          "name": "stdout",
          "output_type": "stream",
          "text": [
            "\n",
            "Mapping for REMOTE_TYPE_NAME:\n",
            "  Index 0 -> Undefined\n",
            "  Index 1 -> Remote\n",
            "  Index 2 -> Hybrid\n",
            "  Index 3 -> On Premise\n"
          ]
        },
        {
          "name": "stderr",
          "output_type": "stream",
          "text": [
            "                                                                                \r"
          ]
        }
      ],
      "source": [
        "for col in categorical_cols:\n",
        "    indexer = StringIndexer(inputCol=col, outputCol=f\"{col}_Idx\", handleInvalid=\"skip\")\n",
        "    model = indexer.fit(df_cleaned)\n",
        "    print(f\"\\nMapping for {col}:\")\n",
        "    for i, category in enumerate(model.labels):\n",
        "        print(f\"  Index {i} -> {category}\")\n"
      ]
    },
    {
      "cell_type": "markdown",
      "metadata": {},
      "source": [
        "## Linear Regression"
      ]
    },
    {
      "cell_type": "code",
      "execution_count": 7,
      "metadata": {},
      "outputs": [
        {
          "name": "stderr",
          "output_type": "stream",
          "text": [
            "25/10/05 23:29:25 WARN Instrumentation: [68f324e3] regParam is zero, which might cause numerical instability and overfitting.\n",
            "[Stage 32:>                                                         (0 + 1) / 1]\r"
          ]
        },
        {
          "name": "stdout",
          "output_type": "stream",
          "text": [
            "R² Score: 0.2840\n",
            "RMSE: 35315.94\n",
            "MAE: 27676.61\n"
          ]
        },
        {
          "name": "stderr",
          "output_type": "stream",
          "text": [
            "                                                                                \r"
          ]
        }
      ],
      "source": [
        "from pyspark.ml.regression import LinearRegression\n",
        "from pyspark.ml.evaluation import RegressionEvaluator\n",
        "import pandas as pd\n",
        "from scipy.stats import t\n",
        "\n",
        "lin_reg = LinearRegression(featuresCol=\"features\", labelCol=\"SALARY\")\n",
        "\n",
        "lin_reg_fit = lin_reg.fit(reg_train) #fit model to training data\n",
        "\n",
        "salary_pred = lin_reg_fit.transform(reg_test) #predicting on test data\n",
        "\n",
        "#define the evaluators\n",
        "r2_eval = RegressionEvaluator(labelCol=\"SALARY\", predictionCol=\"prediction\", metricName=\"r2\")\n",
        "rmse_eval = RegressionEvaluator(labelCol=\"SALARY\", predictionCol=\"prediction\", metricName=\"rmse\")\n",
        "mae_eval = RegressionEvaluator(labelCol=\"SALARY\", predictionCol=\"prediction\", metricName=\"mae\")\n",
        "\n",
        "#generate metrics\n",
        "r2_score = r2_eval.evaluate(salary_pred)\n",
        "rmse_val = rmse_eval.evaluate(salary_pred)\n",
        "mae_val = mae_eval.evaluate(salary_pred)\n",
        "\n",
        "print(f\"R² Score: {r2_score:.4f}\")\n",
        "print(f\"RMSE: {rmse_val:.2f}\")\n",
        "print(f\"MAE: {mae_val:.2f}\")\n"
      ]
    },
    {
      "cell_type": "code",
      "execution_count": 8,
      "metadata": {},
      "outputs": [
        {
          "name": "stdout",
          "output_type": "stream",
          "text": [
            "\n",
            "Coefficient Summary:\n",
            "                  Feature      Estimate    Std Error     t-Stat       p-Value  \\\n",
            "0               Intercept  76735.577948   102.356000  66.277489  0.000000e+00   \n",
            "1    MIN_YEARS_EXPERIENCE   6783.898664    23.632630  -1.831651  6.702934e-02   \n",
            "2                DURATION    -43.286721  6866.446762  -1.025459  3.051684e-01   \n",
            "3           IS_INTERNSHIP  -7041.257613  1063.265929  -0.595172  5.517402e-01   \n",
            "4     COMPANY_IS_STAFFING   -632.826152  3011.540238  -0.421858  6.731367e-01   \n",
            "5  EMPLOYMENT_TYPE_NAME_A  -1270.441524  3605.833255  -1.077711  2.811853e-01   \n",
            "6  EMPLOYMENT_TYPE_NAME_B  -3886.046755  2462.498142   3.306373  9.480161e-04   \n",
            "7      REMOTE_TYPE_NAME_X   8141.937756  2529.947825   3.635882  2.782402e-04   \n",
            "8      REMOTE_TYPE_NAME_Y   9198.592476  3172.252546   7.636575  2.398082e-14   \n",
            "9      REMOTE_TYPE_NAME_Z  24225.144004  3579.670705  21.436491  0.000000e+00   \n",
            "\n",
            "   95% CI Lower  95% CI Upper  \n",
            "0  76534.942765  76936.213130  \n",
            "1   6737.574686   6830.222643  \n",
            "2 -13502.691172  13416.117730  \n",
            "3  -9125.439821  -4957.075405  \n",
            "4  -6535.957638   5270.305334  \n",
            "5  -8338.488484   5797.605435  \n",
            "6  -8712.962276    940.868767  \n",
            "7   3182.809376  13101.066136  \n",
            "8   2980.437509  15416.747443  \n",
            "9  17208.380095  31241.907914  \n"
          ]
        }
      ],
      "source": [
        "#getting coefs and stats\n",
        "model_summary = lin_reg_fit.summary\n",
        "\n",
        "coefs = lin_reg_fit.coefficients\n",
        "intercept_val = lin_reg_fit.intercept\n",
        "stderr = model_summary.coefficientStandardErrors\n",
        "t_vals = model_summary.tValues\n",
        "p_vals = model_summary.pValues\n",
        "\n",
        "#compute degrees of freedom for t-distribution\n",
        "n_obs = model_summary.numInstances\n",
        "num_features = len(coefs)\n",
        "dfree = n_obs - num_features - 1\n",
        "\n",
        "#critical t-value for 95% CI\n",
        "t_crit = t.ppf(0.975, dfree)\n",
        "\n",
        "feature_labels = [\n",
        "    \"MIN_YEARS_EXPERIENCE\",\n",
        "    \"DURATION\",\n",
        "    \"IS_INTERNSHIP\",\n",
        "    \"COMPANY_IS_STAFFING\",\n",
        "    \"EMPLOYMENT_TYPE_NAME_A\",\n",
        "    \"EMPLOYMENT_TYPE_NAME_B\",\n",
        "    \"REMOTE_TYPE_NAME_X\",\n",
        "    \"REMOTE_TYPE_NAME_Y\",\n",
        "    \"REMOTE_TYPE_NAME_Z\"\n",
        "]\n",
        "\n",
        "coef_table = pd.DataFrame({\n",
        "    \"Feature\": [\"Intercept\"] + feature_labels,\n",
        "    \"Estimate\": [intercept_val] + coefs.tolist(),\n",
        "    \"Std Error\": stderr,\n",
        "    \"t-Stat\": t_vals,\n",
        "    \"p-Value\": p_vals\n",
        "})\n",
        "\n",
        "#add confidence intervals\n",
        "coef_table[\"95% CI Lower\"] = coef_table[\"Estimate\"] - t_crit * coef_table[\"Std Error\"]\n",
        "coef_table[\"95% CI Upper\"] = coef_table[\"Estimate\"] + t_crit * coef_table[\"Std Error\"]\n",
        "\n",
        "print(\"\\nCoefficient Summary:\")\n",
        "print(coef_table)"
      ]
    },
    {
      "cell_type": "markdown",
      "metadata": {},
      "source": [
        "The linear regression model explains approximately 28% of the variance in salaries, showing that while job attributes like as experience and remote status influence pay, substantial variation remains unexplained. This is likely due to qualitative factors like role seniority, company size, or negotiation effects. Undefined roles were initally excluded but that reduced the model's reliabilty and was subsequentially added as a baseline for remote roles.\n",
        "\n",
        "Some statistically significant predictors include remote and hybrid roles (Remote Type X & Y) and Flexible employment type, all of which show clear positive or negative salary impacts. Compared to the baseline groups (Fulltime employment and Undefined remote), Flexible roles pay significantly less than Fulltime roles, whereas Parttime roles do not show a significant difference. For remote types, Remote, Hybrid, and On Premise roles show meaningful salary increases relative to Undefined roles, with On Premise roles exhibiting the largest premium of approximately $24K. \n",
        "\n",
        "Non-significant coefficients, such as Parttime or certain remote categories, suggest that observed differences may be due to random variation rather than a true effect, while the significant predictors highlight areas where job structure meaningfully affects compensation."
      ]
    },
    {
      "cell_type": "markdown",
      "metadata": {},
      "source": [
        "## Polynominal Linear Regression"
      ]
    },
    {
      "cell_type": "code",
      "execution_count": 11,
      "metadata": {},
      "outputs": [
        {
          "name": "stderr",
          "output_type": "stream",
          "text": [
            "25/10/05 23:29:51 WARN Instrumentation: [48c15026] regParam is zero, which might cause numerical instability and overfitting.\n",
            "                                                                                \r"
          ]
        },
        {
          "name": "stdout",
          "output_type": "stream",
          "text": [
            "                    Feature   Coefficient    Std Error    t-value  \\\n",
            "0                 Intercept  67932.172201   365.427981  34.124107   \n",
            "1      MIN_YEARS_EXPERIENCE  12469.903484    23.369295  -1.746680   \n",
            "2   MIN_YEARS_EXPERIENCE_SQ    -40.818670  6795.398159  -0.378451   \n",
            "3                  DURATION  -2571.726155  1051.916215  -1.110934   \n",
            "4             IS_INTERNSHIP  -1168.609779  2990.337025  -1.899043   \n",
            "5       COMPANY_IS_STAFFING  -5678.777125  3572.973249  -2.128946   \n",
            "6    EMPLOYMENT_TYPE_NAME_A  -7606.667528  2435.260898   3.109557   \n",
            "7    EMPLOYMENT_TYPE_NAME_B   7572.582266  2501.762396   3.565968   \n",
            "8        REMOTE_TYPE_NAME_X   8921.205741  3137.964205   7.286182   \n",
            "9        REMOTE_TYPE_NAME_Y  22863.778828    26.275186 -16.193368   \n",
            "10       REMOTE_TYPE_NAME_Z   -425.483749  3581.211738  18.969047   \n",
            "\n",
            "         p-value  95% CI Lower  95% CI Upper  \n",
            "0   0.000000e+00  67215.871148  68648.473253  \n",
            "1   8.071963e-02  12424.095687  12515.711281  \n",
            "2   7.051025e-01 -13360.955886  13279.318546  \n",
            "3   2.666199e-01  -4633.661011   -509.791298  \n",
            "4   5.758388e-02  -7030.179413   4692.959856  \n",
            "5   3.327990e-02 -12682.412944   1324.858694  \n",
            "6   1.878259e-03 -12380.193459  -2833.141596  \n",
            "7   3.639866e-04   2668.702078  12476.462454  \n",
            "8   3.397282e-13   2770.261704  15072.149779  \n",
            "9   0.000000e+00  22812.274990  22915.282666  \n",
            "10  0.000000e+00  -7445.268409   6594.300910  \n"
          ]
        },
        {
          "name": "stderr",
          "output_type": "stream",
          "text": [
            "[Stage 37:>                                                         (0 + 1) / 1]\r"
          ]
        },
        {
          "name": "stdout",
          "output_type": "stream",
          "text": [
            "Polynomial Regression R²: 0.3016947273606302\n",
            "Polynomial Regression RMSE: 34875.92736404874\n",
            "Polynomial Regression MAE: 27190.399586682357\n"
          ]
        },
        {
          "name": "stderr",
          "output_type": "stream",
          "text": [
            "                                                                                \r"
          ]
        }
      ],
      "source": [
        "from pyspark.ml.regression import LinearRegression\n",
        "import pandas as pd\n",
        "from scipy.stats import t\n",
        "\n",
        "#train poly\n",
        "poly_lr = LinearRegression(featuresCol=\"features_poly\", labelCol=\"SALARY\", solver=\"normal\")\n",
        "poly_model = poly_lr.fit(reg_train)  # use your training set\n",
        "\n",
        "#get summary\n",
        "summary_poly = poly_model.summary\n",
        "\n",
        "#get regression stats and coeff\n",
        "coefficients_poly = poly_model.coefficients\n",
        "intercept_poly = poly_model.intercept\n",
        "std_errors_poly = summary_poly.coefficientStandardErrors\n",
        "t_values_poly = summary_poly.tValues\n",
        "p_values_poly = summary_poly.pValues\n",
        "\n",
        "#degrees of freedom\n",
        "n_poly = summary_poly.numInstances\n",
        "p_poly = len(coefficients_poly)\n",
        "dof_poly = n_poly - p_poly - 1\n",
        "\n",
        "# Critical t-value for 95% confidence interval\n",
        "critical_value_poly = t.ppf(0.975, dof_poly)\n",
        "\n",
        "feature_poly_names = [\n",
        "    \"MIN_YEARS_EXPERIENCE\", \"MIN_YEARS_EXPERIENCE_SQ\",\n",
        "    \"DURATION\",\n",
        "    \"IS_INTERNSHIP\", \"COMPANY_IS_STAFFING\",\n",
        "    \"EMPLOYMENT_TYPE_NAME_A\",  \n",
        "    \"EMPLOYMENT_TYPE_NAME_B\",\n",
        "    \"REMOTE_TYPE_NAME_X\",\n",
        "    \"REMOTE_TYPE_NAME_Y\",\n",
        "    \"REMOTE_TYPE_NAME_Z\"\n",
        "]\n",
        "\n",
        "#create df\n",
        "coef_poly_df = pd.DataFrame({\n",
        "    \"Feature\": [\"Intercept\"] + feature_poly_names,\n",
        "    \"Coefficient\": [intercept_poly] + coefficients_poly.tolist(),\n",
        "    \"Std Error\": std_errors_poly,\n",
        "    \"t-value\": t_values_poly,\n",
        "    \"p-value\": p_values_poly\n",
        "})\n",
        "\n",
        "#add CI\n",
        "coef_poly_df[\"95% CI Lower\"] = coef_poly_df[\"Coefficient\"] - critical_value_poly * coef_poly_df[\"Std Error\"]\n",
        "coef_poly_df[\"95% CI Upper\"] = coef_poly_df[\"Coefficient\"] + critical_value_poly * coef_poly_df[\"Std Error\"]\n",
        "\n",
        "print(coef_poly_df)\n",
        "\n",
        "#evaluate model on test set\n",
        "predictions_poly = poly_model.transform(reg_test)\n",
        "\n",
        "from pyspark.ml.evaluation import RegressionEvaluator\n",
        "\n",
        "r2_eval = RegressionEvaluator(labelCol=\"SALARY\", predictionCol=\"prediction\", metricName=\"r2\")\n",
        "rmse_eval = RegressionEvaluator(labelCol=\"SALARY\", predictionCol=\"prediction\", metricName=\"rmse\")\n",
        "mae_eval = RegressionEvaluator(labelCol=\"SALARY\", predictionCol=\"prediction\", metricName=\"mae\")\n",
        "\n",
        "r2 = r2_eval.evaluate(predictions_poly)\n",
        "rmse = rmse_eval.evaluate(predictions_poly)\n",
        "mae = mae_eval.evaluate(predictions_poly)\n",
        "\n",
        "print(f\"Polynomial Regression R²: {r2}\")\n",
        "print(f\"Polynomial Regression RMSE: {rmse}\")\n",
        "print(f\"Polynomial Regression MAE: {mae}\")\n"
      ]
    },
    {
      "cell_type": "markdown",
      "metadata": {},
      "source": [
        "The polynomial regression model explains about 30% of the variance in salaries, showing that experience and job attributes influence pay, though much variation still remains unexplained. Significant predictors include remote and hybrid roles and all employment types meaningfully impact salaries.\n",
        "\n",
        "Non-significant terms with limited contributions, such as the quadratic minimum years of experience term, has a negative coefficient while the linear minimum years of experience is positive, suggesting that althought salary increaes with more experience, the increase slows down as experience grows and plateaus. Overall, the model highlights which job characteristics most strongly affect compensation while capturing some non-linear effects of experience."
      ]
    },
    {
      "cell_type": "markdown",
      "metadata": {},
      "source": [
        "## Random Forest Regressor"
      ]
    },
    {
      "cell_type": "code",
      "execution_count": 12,
      "metadata": {},
      "outputs": [
        {
          "name": "stderr",
          "output_type": "stream",
          "text": [
            "25/10/05 23:30:40 WARN DAGScheduler: Broadcasting large task binary with size 1210.5 KiB\n",
            "25/10/05 23:30:43 WARN DAGScheduler: Broadcasting large task binary with size 2.1 MiB\n",
            "25/10/05 23:30:48 WARN DAGScheduler: Broadcasting large task binary with size 3.7 MiB\n",
            "25/10/05 23:30:55 WARN DAGScheduler: Broadcasting large task binary with size 6.1 MiB\n",
            "25/10/05 23:31:01 WARN DAGScheduler: Broadcasting large task binary with size 1402.3 KiB\n",
            "[Stage 56:>                                                         (0 + 1) / 1]\r"
          ]
        },
        {
          "name": "stdout",
          "output_type": "stream",
          "text": [
            "+------+------------------+\n",
            "|SALARY|        prediction|\n",
            "+------+------------------+\n",
            "| 29120|114624.66663326925|\n",
            "| 31200| 96687.65499926287|\n",
            "| 31200|114624.66663326925|\n",
            "| 31640| 96228.91630692781|\n",
            "| 32240| 95844.37906654779|\n",
            "+------+------------------+\n",
            "only showing top 5 rows\n",
            "Feature Importances: [np.float64(0.8681171759565247), np.float64(0.06743212825429395), np.float64(0.0016313701554676735), np.float64(0.007622290249534043), np.float64(0.009574155828520737), np.float64(0.008389185582000717), np.float64(0.009964903639168394), np.float64(0.009171279424142545), np.float64(0.018097510910347166)]\n"
          ]
        },
        {
          "name": "stderr",
          "output_type": "stream",
          "text": [
            "                                                                                \r"
          ]
        }
      ],
      "source": [
        "from pyspark.ml.regression import RandomForestRegressor\n",
        "\n",
        "# choose hyperparameters \n",
        "num_trees = 450\n",
        "max_depth = 7\n",
        "\n",
        "# Initialize Random Forest Regressor\n",
        "rf = RandomForestRegressor(featuresCol=\"features\", labelCol=\"SALARY\", \n",
        "                           numTrees=num_trees, maxDepth=max_depth, seed=51)\n",
        "\n",
        "# Fit the model\n",
        "rf_model = rf.fit(reg_train)\n",
        "\n",
        "# Predict on test data\n",
        "predictions_rf = rf_model.transform(reg_test)\n",
        "predictions_rf.select(\"SALARY\", \"prediction\").show(5)\n",
        "\n",
        "# Print feature importances\n",
        "print(\"Feature Importances:\", list(rf_model.featureImportances))\n"
      ]
    },
    {
      "cell_type": "markdown",
      "metadata": {},
      "source": [
        "# Feature Importance Plot"
      ]
    },
    {
      "cell_type": "code",
      "execution_count": 20,
      "metadata": {},
      "outputs": [
        {
          "name": "stderr",
          "output_type": "stream",
          "text": [
            "/tmp/ipykernel_1623/862456364.py:36: FutureWarning:\n",
            "\n",
            "\n",
            "\n",
            "Passing `palette` without assigning `hue` is deprecated and will be removed in v0.14.0. Assign the `y` variable to `hue` and set `legend=False` for the same effect.\n",
            "\n",
            "\n"
          ]
        },
        {
          "data": {
            "image/png": "[encoded data removed]",
            "text/plain": [
              "<Figure size 1000x600 with 1 Axes>"
            ]
          },
          "metadata": {},
          "output_type": "display_data"
        }
      ],
      "source": [
        "import pandas as pd\n",
        "import seaborn as sns\n",
        "import matplotlib.pyplot as plt\n",
        "from pyspark.ml.feature import VectorAssembler\n",
        "\n",
        "# Get all input columns from your assembler\n",
        "feature_cols = assembler.getInputCols()\n",
        "\n",
        "# For vectorized categorical columns, you may need to flatten them\n",
        "# This creates a list of feature names matching the length of feature vector\n",
        "# Continuous features remain as-is, categorical vector columns get indexed as col_0, col_1, ...\n",
        "flattened_features = []\n",
        "for col_name in feature_cols:\n",
        "    dtype = dict(data.dtypes)[col_name]\n",
        "    if dtype.startswith(\"vector\"):\n",
        "        # Get size of vector column\n",
        "        vec_size = len(data.select(col_name).head()[0])\n",
        "        flattened_features.extend([f\"{col_name}_{i}\" for i in range(vec_size)])\n",
        "    else:\n",
        "        flattened_features.append(col_name)\n",
        "\n",
        "# Extract feature importances from the Random Forest model\n",
        "importances = rf_model.featureImportances.toArray()\n",
        "\n",
        "# Create DataFrame for plotting\n",
        "feat_imp_df = pd.DataFrame({\n",
        "    \"Feature\": flattened_features,\n",
        "    \"Importance\": importances\n",
        "})\n",
        "\n",
        "# Sort and get top 10\n",
        "top_feats = feat_imp_df.sort_values(by=\"Importance\", ascending=False).head(10)\n",
        "\n",
        "# Plot\n",
        "plt.figure(figsize=(10,6))\n",
        "sns.barplot(x=\"Importance\", y=\"Feature\", data=top_feats, palette=\"plasma\")\n",
        "plt.title(\"Top 10 Random Forest Feature Importances\")\n",
        "plt.tight_layout()\n",
        "plt.show()\n"
      ]
    },
    {
      "cell_type": "markdown",
      "metadata": {},
      "source": [
        "This highlights that minimum years of experience has the most importance in predicating salary in roles compared to other features."
      ]
    }
  ],
  "metadata": {
    "kernelspec": {
      "display_name": ".venv",
      "language": "python",
      "name": "python3"
    },
    "language_info": {
      "codemirror_mode": {
        "name": "ipython",
        "version": 3
      },
      "file_extension": ".py",
      "mimetype": "text/x-python",
      "name": "python",
      "nbconvert_exporter": "python",
      "pygments_lexer": "ipython3",
      "version": "3.12.3"
    }
  },
  "nbformat": 4,
  "nbformat_minor": 4
}
